{
 "cells": [
  {
   "cell_type": "markdown",
   "id": "17d3c880",
   "metadata": {
    "papermill": {
     "duration": 0.018483,
     "end_time": "2024-11-20T01:18:25.723464",
     "exception": false,
     "start_time": "2024-11-20T01:18:25.704981",
     "status": "completed"
    },
    "tags": []
   },
   "source": [
    "# 라이브러리 불러오기"
   ]
  },
  {
   "cell_type": "code",
   "execution_count": 1,
   "id": "fd9f0cf3",
   "metadata": {
    "_cell_guid": "b1076dfc-b9ad-4769-8c92-a6c4dae69d19",
    "_uuid": "8f2839f25d086af736a60e9eeb907d3b93b6e0e5",
    "execution": {
     "iopub.execute_input": "2024-11-20T01:18:25.769796Z",
     "iopub.status.busy": "2024-11-20T01:18:25.769114Z",
     "iopub.status.idle": "2024-11-20T01:18:27.226476Z",
     "shell.execute_reply": "2024-11-20T01:18:27.225712Z",
     "shell.execute_reply.started": "2024-11-20T01:17:07.538617Z"
    },
    "papermill": {
     "duration": 1.485094,
     "end_time": "2024-11-20T01:18:27.226676",
     "exception": false,
     "start_time": "2024-11-20T01:18:25.741582",
     "status": "completed"
    },
    "tags": []
   },
   "outputs": [],
   "source": [
    "import numpy as np \n",
    "import pandas as pd\n",
    "import matplotlib.pyplot as plt\n",
    "import seaborn as sns\n",
    "from sklearn.ensemble import RandomForestClassifier\n",
    "%matplotlib inline"
   ]
  },
  {
   "cell_type": "markdown",
   "id": "cd80e223",
   "metadata": {
    "papermill": {
     "duration": 0.016649,
     "end_time": "2024-11-20T01:18:27.260407",
     "exception": false,
     "start_time": "2024-11-20T01:18:27.243758",
     "status": "completed"
    },
    "tags": []
   },
   "source": [
    "# 데이터 읽어오기"
   ]
  },
  {
   "cell_type": "code",
   "execution_count": 2,
   "id": "a6de9626",
   "metadata": {
    "_cell_guid": "79c7e3d0-c299-4dcb-8224-4455121ee9b0",
    "_uuid": "d629ff2d2480ee46fbb7e2d37f6b5fab8052498a",
    "execution": {
     "iopub.execute_input": "2024-11-20T01:18:27.301735Z",
     "iopub.status.busy": "2024-11-20T01:18:27.300769Z",
     "iopub.status.idle": "2024-11-20T01:18:27.335562Z",
     "shell.execute_reply": "2024-11-20T01:18:27.335041Z",
     "shell.execute_reply.started": "2024-11-20T01:17:08.940939Z"
    },
    "papermill": {
     "duration": 0.057451,
     "end_time": "2024-11-20T01:18:27.335710",
     "exception": false,
     "start_time": "2024-11-20T01:18:27.278259",
     "status": "completed"
    },
    "tags": []
   },
   "outputs": [],
   "source": [
    "train = pd.read_csv(\"/kaggle/input/titanic/train.csv\")\n",
    "test = pd.read_csv(\"/kaggle/input/titanic/test.csv\")\n",
    "submission = pd.read_csv(\"/kaggle/input/titanic/gender_submission.csv\")"
   ]
  },
  {
   "cell_type": "code",
   "execution_count": 3,
   "id": "644c632b",
   "metadata": {
    "execution": {
     "iopub.execute_input": "2024-11-20T01:18:27.379535Z",
     "iopub.status.busy": "2024-11-20T01:18:27.378607Z",
     "iopub.status.idle": "2024-11-20T01:18:27.398034Z",
     "shell.execute_reply": "2024-11-20T01:18:27.397343Z",
     "shell.execute_reply.started": "2024-11-20T01:17:08.973214Z"
    },
    "papermill": {
     "duration": 0.044739,
     "end_time": "2024-11-20T01:18:27.398194",
     "exception": false,
     "start_time": "2024-11-20T01:18:27.353455",
     "status": "completed"
    },
    "tags": []
   },
   "outputs": [
    {
     "data": {
      "text/html": [
       "<div>\n",
       "<style scoped>\n",
       "    .dataframe tbody tr th:only-of-type {\n",
       "        vertical-align: middle;\n",
       "    }\n",
       "\n",
       "    .dataframe tbody tr th {\n",
       "        vertical-align: top;\n",
       "    }\n",
       "\n",
       "    .dataframe thead th {\n",
       "        text-align: right;\n",
       "    }\n",
       "</style>\n",
       "<table border=\"1\" class=\"dataframe\">\n",
       "  <thead>\n",
       "    <tr style=\"text-align: right;\">\n",
       "      <th></th>\n",
       "      <th>PassengerId</th>\n",
       "      <th>Survived</th>\n",
       "      <th>Pclass</th>\n",
       "      <th>Name</th>\n",
       "      <th>Sex</th>\n",
       "      <th>Age</th>\n",
       "      <th>SibSp</th>\n",
       "      <th>Parch</th>\n",
       "      <th>Ticket</th>\n",
       "      <th>Fare</th>\n",
       "      <th>Cabin</th>\n",
       "      <th>Embarked</th>\n",
       "    </tr>\n",
       "  </thead>\n",
       "  <tbody>\n",
       "    <tr>\n",
       "      <th>0</th>\n",
       "      <td>1</td>\n",
       "      <td>0</td>\n",
       "      <td>3</td>\n",
       "      <td>Braund, Mr. Owen Harris</td>\n",
       "      <td>male</td>\n",
       "      <td>22.0</td>\n",
       "      <td>1</td>\n",
       "      <td>0</td>\n",
       "      <td>A/5 21171</td>\n",
       "      <td>7.2500</td>\n",
       "      <td>NaN</td>\n",
       "      <td>S</td>\n",
       "    </tr>\n",
       "    <tr>\n",
       "      <th>1</th>\n",
       "      <td>2</td>\n",
       "      <td>1</td>\n",
       "      <td>1</td>\n",
       "      <td>Cumings, Mrs. John Bradley (Florence Briggs Th...</td>\n",
       "      <td>female</td>\n",
       "      <td>38.0</td>\n",
       "      <td>1</td>\n",
       "      <td>0</td>\n",
       "      <td>PC 17599</td>\n",
       "      <td>71.2833</td>\n",
       "      <td>C85</td>\n",
       "      <td>C</td>\n",
       "    </tr>\n",
       "    <tr>\n",
       "      <th>2</th>\n",
       "      <td>3</td>\n",
       "      <td>1</td>\n",
       "      <td>3</td>\n",
       "      <td>Heikkinen, Miss. Laina</td>\n",
       "      <td>female</td>\n",
       "      <td>26.0</td>\n",
       "      <td>0</td>\n",
       "      <td>0</td>\n",
       "      <td>STON/O2. 3101282</td>\n",
       "      <td>7.9250</td>\n",
       "      <td>NaN</td>\n",
       "      <td>S</td>\n",
       "    </tr>\n",
       "    <tr>\n",
       "      <th>3</th>\n",
       "      <td>4</td>\n",
       "      <td>1</td>\n",
       "      <td>1</td>\n",
       "      <td>Futrelle, Mrs. Jacques Heath (Lily May Peel)</td>\n",
       "      <td>female</td>\n",
       "      <td>35.0</td>\n",
       "      <td>1</td>\n",
       "      <td>0</td>\n",
       "      <td>113803</td>\n",
       "      <td>53.1000</td>\n",
       "      <td>C123</td>\n",
       "      <td>S</td>\n",
       "    </tr>\n",
       "    <tr>\n",
       "      <th>4</th>\n",
       "      <td>5</td>\n",
       "      <td>0</td>\n",
       "      <td>3</td>\n",
       "      <td>Allen, Mr. William Henry</td>\n",
       "      <td>male</td>\n",
       "      <td>35.0</td>\n",
       "      <td>0</td>\n",
       "      <td>0</td>\n",
       "      <td>373450</td>\n",
       "      <td>8.0500</td>\n",
       "      <td>NaN</td>\n",
       "      <td>S</td>\n",
       "    </tr>\n",
       "  </tbody>\n",
       "</table>\n",
       "</div>"
      ],
      "text/plain": [
       "   PassengerId  Survived  Pclass  \\\n",
       "0            1         0       3   \n",
       "1            2         1       1   \n",
       "2            3         1       3   \n",
       "3            4         1       1   \n",
       "4            5         0       3   \n",
       "\n",
       "                                                Name     Sex   Age  SibSp  \\\n",
       "0                            Braund, Mr. Owen Harris    male  22.0      1   \n",
       "1  Cumings, Mrs. John Bradley (Florence Briggs Th...  female  38.0      1   \n",
       "2                             Heikkinen, Miss. Laina  female  26.0      0   \n",
       "3       Futrelle, Mrs. Jacques Heath (Lily May Peel)  female  35.0      1   \n",
       "4                           Allen, Mr. William Henry    male  35.0      0   \n",
       "\n",
       "   Parch            Ticket     Fare Cabin Embarked  \n",
       "0      0         A/5 21171   7.2500   NaN        S  \n",
       "1      0          PC 17599  71.2833   C85        C  \n",
       "2      0  STON/O2. 3101282   7.9250   NaN        S  \n",
       "3      0            113803  53.1000  C123        S  \n",
       "4      0            373450   8.0500   NaN        S  "
      ]
     },
     "execution_count": 3,
     "metadata": {},
     "output_type": "execute_result"
    }
   ],
   "source": [
    "train.head()"
   ]
  },
  {
   "cell_type": "code",
   "execution_count": 4,
   "id": "3881878f",
   "metadata": {
    "execution": {
     "iopub.execute_input": "2024-11-20T01:18:27.452315Z",
     "iopub.status.busy": "2024-11-20T01:18:27.451364Z",
     "iopub.status.idle": "2024-11-20T01:18:27.456045Z",
     "shell.execute_reply": "2024-11-20T01:18:27.455474Z",
     "shell.execute_reply.started": "2024-11-20T01:17:09.000052Z"
    },
    "papermill": {
     "duration": 0.038809,
     "end_time": "2024-11-20T01:18:27.456201",
     "exception": false,
     "start_time": "2024-11-20T01:18:27.417392",
     "status": "completed"
    },
    "tags": []
   },
   "outputs": [
    {
     "data": {
      "text/html": [
       "<div>\n",
       "<style scoped>\n",
       "    .dataframe tbody tr th:only-of-type {\n",
       "        vertical-align: middle;\n",
       "    }\n",
       "\n",
       "    .dataframe tbody tr th {\n",
       "        vertical-align: top;\n",
       "    }\n",
       "\n",
       "    .dataframe thead th {\n",
       "        text-align: right;\n",
       "    }\n",
       "</style>\n",
       "<table border=\"1\" class=\"dataframe\">\n",
       "  <thead>\n",
       "    <tr style=\"text-align: right;\">\n",
       "      <th></th>\n",
       "      <th>PassengerId</th>\n",
       "      <th>Pclass</th>\n",
       "      <th>Name</th>\n",
       "      <th>Sex</th>\n",
       "      <th>Age</th>\n",
       "      <th>SibSp</th>\n",
       "      <th>Parch</th>\n",
       "      <th>Ticket</th>\n",
       "      <th>Fare</th>\n",
       "      <th>Cabin</th>\n",
       "      <th>Embarked</th>\n",
       "    </tr>\n",
       "  </thead>\n",
       "  <tbody>\n",
       "    <tr>\n",
       "      <th>0</th>\n",
       "      <td>892</td>\n",
       "      <td>3</td>\n",
       "      <td>Kelly, Mr. James</td>\n",
       "      <td>male</td>\n",
       "      <td>34.5</td>\n",
       "      <td>0</td>\n",
       "      <td>0</td>\n",
       "      <td>330911</td>\n",
       "      <td>7.8292</td>\n",
       "      <td>NaN</td>\n",
       "      <td>Q</td>\n",
       "    </tr>\n",
       "    <tr>\n",
       "      <th>1</th>\n",
       "      <td>893</td>\n",
       "      <td>3</td>\n",
       "      <td>Wilkes, Mrs. James (Ellen Needs)</td>\n",
       "      <td>female</td>\n",
       "      <td>47.0</td>\n",
       "      <td>1</td>\n",
       "      <td>0</td>\n",
       "      <td>363272</td>\n",
       "      <td>7.0000</td>\n",
       "      <td>NaN</td>\n",
       "      <td>S</td>\n",
       "    </tr>\n",
       "    <tr>\n",
       "      <th>2</th>\n",
       "      <td>894</td>\n",
       "      <td>2</td>\n",
       "      <td>Myles, Mr. Thomas Francis</td>\n",
       "      <td>male</td>\n",
       "      <td>62.0</td>\n",
       "      <td>0</td>\n",
       "      <td>0</td>\n",
       "      <td>240276</td>\n",
       "      <td>9.6875</td>\n",
       "      <td>NaN</td>\n",
       "      <td>Q</td>\n",
       "    </tr>\n",
       "    <tr>\n",
       "      <th>3</th>\n",
       "      <td>895</td>\n",
       "      <td>3</td>\n",
       "      <td>Wirz, Mr. Albert</td>\n",
       "      <td>male</td>\n",
       "      <td>27.0</td>\n",
       "      <td>0</td>\n",
       "      <td>0</td>\n",
       "      <td>315154</td>\n",
       "      <td>8.6625</td>\n",
       "      <td>NaN</td>\n",
       "      <td>S</td>\n",
       "    </tr>\n",
       "    <tr>\n",
       "      <th>4</th>\n",
       "      <td>896</td>\n",
       "      <td>3</td>\n",
       "      <td>Hirvonen, Mrs. Alexander (Helga E Lindqvist)</td>\n",
       "      <td>female</td>\n",
       "      <td>22.0</td>\n",
       "      <td>1</td>\n",
       "      <td>1</td>\n",
       "      <td>3101298</td>\n",
       "      <td>12.2875</td>\n",
       "      <td>NaN</td>\n",
       "      <td>S</td>\n",
       "    </tr>\n",
       "  </tbody>\n",
       "</table>\n",
       "</div>"
      ],
      "text/plain": [
       "   PassengerId  Pclass                                          Name     Sex  \\\n",
       "0          892       3                              Kelly, Mr. James    male   \n",
       "1          893       3              Wilkes, Mrs. James (Ellen Needs)  female   \n",
       "2          894       2                     Myles, Mr. Thomas Francis    male   \n",
       "3          895       3                              Wirz, Mr. Albert    male   \n",
       "4          896       3  Hirvonen, Mrs. Alexander (Helga E Lindqvist)  female   \n",
       "\n",
       "    Age  SibSp  Parch   Ticket     Fare Cabin Embarked  \n",
       "0  34.5      0      0   330911   7.8292   NaN        Q  \n",
       "1  47.0      1      0   363272   7.0000   NaN        S  \n",
       "2  62.0      0      0   240276   9.6875   NaN        Q  \n",
       "3  27.0      0      0   315154   8.6625   NaN        S  \n",
       "4  22.0      1      1  3101298  12.2875   NaN        S  "
      ]
     },
     "execution_count": 4,
     "metadata": {},
     "output_type": "execute_result"
    }
   ],
   "source": [
    "test.head()"
   ]
  },
  {
   "cell_type": "code",
   "execution_count": 5,
   "id": "de047a1e",
   "metadata": {
    "execution": {
     "iopub.execute_input": "2024-11-20T01:18:27.501167Z",
     "iopub.status.busy": "2024-11-20T01:18:27.500172Z",
     "iopub.status.idle": "2024-11-20T01:18:27.505016Z",
     "shell.execute_reply": "2024-11-20T01:18:27.504335Z",
     "shell.execute_reply.started": "2024-11-20T01:17:09.015370Z"
    },
    "papermill": {
     "duration": 0.031148,
     "end_time": "2024-11-20T01:18:27.505167",
     "exception": false,
     "start_time": "2024-11-20T01:18:27.474019",
     "status": "completed"
    },
    "tags": []
   },
   "outputs": [
    {
     "data": {
      "text/html": [
       "<div>\n",
       "<style scoped>\n",
       "    .dataframe tbody tr th:only-of-type {\n",
       "        vertical-align: middle;\n",
       "    }\n",
       "\n",
       "    .dataframe tbody tr th {\n",
       "        vertical-align: top;\n",
       "    }\n",
       "\n",
       "    .dataframe thead th {\n",
       "        text-align: right;\n",
       "    }\n",
       "</style>\n",
       "<table border=\"1\" class=\"dataframe\">\n",
       "  <thead>\n",
       "    <tr style=\"text-align: right;\">\n",
       "      <th></th>\n",
       "      <th>PassengerId</th>\n",
       "      <th>Survived</th>\n",
       "    </tr>\n",
       "  </thead>\n",
       "  <tbody>\n",
       "    <tr>\n",
       "      <th>0</th>\n",
       "      <td>892</td>\n",
       "      <td>0</td>\n",
       "    </tr>\n",
       "    <tr>\n",
       "      <th>1</th>\n",
       "      <td>893</td>\n",
       "      <td>1</td>\n",
       "    </tr>\n",
       "    <tr>\n",
       "      <th>2</th>\n",
       "      <td>894</td>\n",
       "      <td>0</td>\n",
       "    </tr>\n",
       "    <tr>\n",
       "      <th>3</th>\n",
       "      <td>895</td>\n",
       "      <td>0</td>\n",
       "    </tr>\n",
       "    <tr>\n",
       "      <th>4</th>\n",
       "      <td>896</td>\n",
       "      <td>1</td>\n",
       "    </tr>\n",
       "  </tbody>\n",
       "</table>\n",
       "</div>"
      ],
      "text/plain": [
       "   PassengerId  Survived\n",
       "0          892         0\n",
       "1          893         1\n",
       "2          894         0\n",
       "3          895         0\n",
       "4          896         1"
      ]
     },
     "execution_count": 5,
     "metadata": {},
     "output_type": "execute_result"
    }
   ],
   "source": [
    "submission.head()"
   ]
  },
  {
   "cell_type": "markdown",
   "id": "d4c0933c",
   "metadata": {
    "papermill": {
     "duration": 0.018401,
     "end_time": "2024-11-20T01:18:27.542248",
     "exception": false,
     "start_time": "2024-11-20T01:18:27.523847",
     "status": "completed"
    },
    "tags": []
   },
   "source": [
    "# 전처리 & 피처엔지니어링"
   ]
  },
  {
   "cell_type": "code",
   "execution_count": 6,
   "id": "c360417d",
   "metadata": {
    "execution": {
     "iopub.execute_input": "2024-11-20T01:18:27.599945Z",
     "iopub.status.busy": "2024-11-20T01:18:27.594644Z",
     "iopub.status.idle": "2024-11-20T01:18:27.618410Z",
     "shell.execute_reply": "2024-11-20T01:18:27.617669Z",
     "shell.execute_reply.started": "2024-11-20T01:17:09.030227Z"
    },
    "papermill": {
     "duration": 0.057895,
     "end_time": "2024-11-20T01:18:27.618562",
     "exception": false,
     "start_time": "2024-11-20T01:18:27.560667",
     "status": "completed"
    },
    "tags": []
   },
   "outputs": [
    {
     "name": "stdout",
     "output_type": "stream",
     "text": [
      "<class 'pandas.core.frame.DataFrame'>\n",
      "Int64Index: 1309 entries, 0 to 417\n",
      "Data columns (total 12 columns):\n",
      " #   Column       Non-Null Count  Dtype  \n",
      "---  ------       --------------  -----  \n",
      " 0   PassengerId  1309 non-null   int64  \n",
      " 1   Survived     891 non-null    float64\n",
      " 2   Pclass       1309 non-null   int64  \n",
      " 3   Name         1309 non-null   object \n",
      " 4   Sex          1309 non-null   object \n",
      " 5   Age          1046 non-null   float64\n",
      " 6   SibSp        1309 non-null   int64  \n",
      " 7   Parch        1309 non-null   int64  \n",
      " 8   Ticket       1309 non-null   object \n",
      " 9   Fare         1308 non-null   float64\n",
      " 10  Cabin        295 non-null    object \n",
      " 11  Embarked     1307 non-null   object \n",
      "dtypes: float64(3), int64(4), object(5)\n",
      "memory usage: 132.9+ KB\n"
     ]
    }
   ],
   "source": [
    "all_data = pd.concat([train, test], sort = False)\n",
    "all_data.info()"
   ]
  },
  {
   "cell_type": "code",
   "execution_count": 7,
   "id": "c14c9c55",
   "metadata": {
    "execution": {
     "iopub.execute_input": "2024-11-20T01:18:27.662908Z",
     "iopub.status.busy": "2024-11-20T01:18:27.662018Z",
     "iopub.status.idle": "2024-11-20T01:18:27.667503Z",
     "shell.execute_reply": "2024-11-20T01:18:27.666890Z",
     "shell.execute_reply.started": "2024-11-20T01:17:09.065583Z"
    },
    "papermill": {
     "duration": 0.030213,
     "end_time": "2024-11-20T01:18:27.667652",
     "exception": false,
     "start_time": "2024-11-20T01:18:27.637439",
     "status": "completed"
    },
    "tags": []
   },
   "outputs": [],
   "source": [
    "# Age, Fare의 null 값을 중앙값으로 치환\n",
    "all_data['Age'] = all_data['Age'].fillna(all_data['Age'].median())\n",
    "all_data['Fare'] = all_data['Fare'].fillna(all_data['Fare'].median())"
   ]
  },
  {
   "cell_type": "code",
   "execution_count": 8,
   "id": "b07640a0",
   "metadata": {
    "execution": {
     "iopub.execute_input": "2024-11-20T01:18:27.721431Z",
     "iopub.status.busy": "2024-11-20T01:18:27.712460Z",
     "iopub.status.idle": "2024-11-20T01:18:27.724744Z",
     "shell.execute_reply": "2024-11-20T01:18:27.725293Z",
     "shell.execute_reply.started": "2024-11-20T01:17:09.073886Z"
    },
    "papermill": {
     "duration": 0.039223,
     "end_time": "2024-11-20T01:18:27.725475",
     "exception": false,
     "start_time": "2024-11-20T01:18:27.686252",
     "status": "completed"
    },
    "tags": []
   },
   "outputs": [
    {
     "name": "stdout",
     "output_type": "stream",
     "text": [
      "<class 'pandas.core.frame.DataFrame'>\n",
      "Int64Index: 1309 entries, 0 to 417\n",
      "Data columns (total 12 columns):\n",
      " #   Column       Non-Null Count  Dtype  \n",
      "---  ------       --------------  -----  \n",
      " 0   PassengerId  1309 non-null   int64  \n",
      " 1   Survived     891 non-null    float64\n",
      " 2   Pclass       1309 non-null   int64  \n",
      " 3   Name         1309 non-null   object \n",
      " 4   Sex          1309 non-null   object \n",
      " 5   Age          1309 non-null   float64\n",
      " 6   SibSp        1309 non-null   int64  \n",
      " 7   Parch        1309 non-null   int64  \n",
      " 8   Ticket       1309 non-null   object \n",
      " 9   Fare         1309 non-null   float64\n",
      " 10  Cabin        295 non-null    object \n",
      " 11  Embarked     1307 non-null   object \n",
      "dtypes: float64(3), int64(4), object(5)\n",
      "memory usage: 132.9+ KB\n"
     ]
    }
   ],
   "source": [
    "all_data.info()"
   ]
  },
  {
   "cell_type": "code",
   "execution_count": 9,
   "id": "40b5a680",
   "metadata": {
    "execution": {
     "iopub.execute_input": "2024-11-20T01:18:27.794454Z",
     "iopub.status.busy": "2024-11-20T01:18:27.793549Z",
     "iopub.status.idle": "2024-11-20T01:18:28.063973Z",
     "shell.execute_reply": "2024-11-20T01:18:28.063158Z",
     "shell.execute_reply.started": "2024-11-20T01:17:09.097009Z"
    },
    "papermill": {
     "duration": 0.319705,
     "end_time": "2024-11-20T01:18:28.064221",
     "exception": false,
     "start_time": "2024-11-20T01:18:27.744516",
     "status": "completed"
    },
    "tags": []
   },
   "outputs": [
    {
     "data": {
      "image/png": "[encoded data removed]",
      "text/plain": [
       "<Figure size 360x360 with 1 Axes>"
      ]
     },
     "metadata": {
      "needs_background": "light"
     },
     "output_type": "display_data"
    }
   ],
   "source": [
    "sns.catplot(x='Embarked', kind='count', data=all_data);"
   ]
  },
  {
   "cell_type": "code",
   "execution_count": 10,
   "id": "41d78fd4",
   "metadata": {
    "execution": {
     "iopub.execute_input": "2024-11-20T01:18:28.121705Z",
     "iopub.status.busy": "2024-11-20T01:18:28.120973Z",
     "iopub.status.idle": "2024-11-20T01:18:28.124331Z",
     "shell.execute_reply": "2024-11-20T01:18:28.124930Z",
     "shell.execute_reply.started": "2024-11-20T01:17:09.313951Z"
    },
    "papermill": {
     "duration": 0.039498,
     "end_time": "2024-11-20T01:18:28.125152",
     "exception": false,
     "start_time": "2024-11-20T01:18:28.085654",
     "status": "completed"
    },
    "tags": []
   },
   "outputs": [
    {
     "name": "stdout",
     "output_type": "stream",
     "text": [
      "<class 'pandas.core.frame.DataFrame'>\n",
      "Int64Index: 1309 entries, 0 to 417\n",
      "Data columns (total 12 columns):\n",
      " #   Column       Non-Null Count  Dtype  \n",
      "---  ------       --------------  -----  \n",
      " 0   PassengerId  1309 non-null   int64  \n",
      " 1   Survived     891 non-null    float64\n",
      " 2   Pclass       1309 non-null   int64  \n",
      " 3   Name         1309 non-null   object \n",
      " 4   Sex          1309 non-null   object \n",
      " 5   Age          1309 non-null   float64\n",
      " 6   SibSp        1309 non-null   int64  \n",
      " 7   Parch        1309 non-null   int64  \n",
      " 8   Ticket       1309 non-null   object \n",
      " 9   Fare         1309 non-null   float64\n",
      " 10  Cabin        295 non-null    object \n",
      " 11  Embarked     1309 non-null   object \n",
      "dtypes: float64(3), int64(4), object(5)\n",
      "memory usage: 165.2+ KB\n"
     ]
    }
   ],
   "source": [
    "# Embarked 중 가장 많은 'S'로 null 값 치환\n",
    "all_data['Embarked'] = all_data['Embarked'].fillna('S')\n",
    "all_data.info()"
   ]
  },
  {
   "cell_type": "code",
   "execution_count": 11,
   "id": "383faa24",
   "metadata": {
    "execution": {
     "iopub.execute_input": "2024-11-20T01:18:28.183772Z",
     "iopub.status.busy": "2024-11-20T01:18:28.182142Z",
     "iopub.status.idle": "2024-11-20T01:18:28.186565Z",
     "shell.execute_reply": "2024-11-20T01:18:28.187084Z",
     "shell.execute_reply.started": "2024-11-20T01:17:09.330669Z"
    },
    "papermill": {
     "duration": 0.040666,
     "end_time": "2024-11-20T01:18:28.187300",
     "exception": false,
     "start_time": "2024-11-20T01:18:28.146634",
     "status": "completed"
    },
    "tags": []
   },
   "outputs": [],
   "source": [
    "# 나이 feature 구간 나누기\n",
    "all_data.loc[all_data['Age'] <= 15, 'Age'] = 0\n",
    "all_data.loc[(all_data['Age'] > 15) & (all_data['Age'] <= 25), 'Age'] = 1\n",
    "all_data.loc[(all_data['Age'] > 25) & (all_data['Age'] <= 35), 'Age'] = 2\n",
    "all_data.loc[(all_data['Age'] > 35) & (all_data['Age'] <= 45), 'Age'] = 3\n",
    "all_data.loc[(all_data['Age'] > 45) & (all_data['Age'] <= 60), 'Age'] = 4\n",
    "all_data.loc[ all_data['Age'] > 60, 'Age'] = 5"
   ]
  },
  {
   "cell_type": "code",
   "execution_count": 12,
   "id": "5deba600",
   "metadata": {
    "execution": {
     "iopub.execute_input": "2024-11-20T01:18:28.233106Z",
     "iopub.status.busy": "2024-11-20T01:18:28.232205Z",
     "iopub.status.idle": "2024-11-20T01:18:28.234747Z",
     "shell.execute_reply": "2024-11-20T01:18:28.235263Z",
     "shell.execute_reply.started": "2024-11-20T01:17:09.350444Z"
    },
    "papermill": {
     "duration": 0.028538,
     "end_time": "2024-11-20T01:18:28.235456",
     "exception": false,
     "start_time": "2024-11-20T01:18:28.206918",
     "status": "completed"
    },
    "tags": []
   },
   "outputs": [],
   "source": [
    "# Title 추출 함수\n",
    "import re\n",
    "def get_title(name):\n",
    "    title_search = re.search(' ([A-Za-z]+\\.)', name)\n",
    "    \n",
    "    if title_search:\n",
    "        return title_search.group(1)\n",
    "    return \"\""
   ]
  },
  {
   "cell_type": "code",
   "execution_count": 13,
   "id": "1a96e19b",
   "metadata": {
    "execution": {
     "iopub.execute_input": "2024-11-20T01:18:28.287703Z",
     "iopub.status.busy": "2024-11-20T01:18:28.286713Z",
     "iopub.status.idle": "2024-11-20T01:18:28.291130Z",
     "shell.execute_reply": "2024-11-20T01:18:28.290343Z",
     "shell.execute_reply.started": "2024-11-20T01:17:09.365506Z"
    },
    "papermill": {
     "duration": 0.035982,
     "end_time": "2024-11-20T01:18:28.291285",
     "exception": false,
     "start_time": "2024-11-20T01:18:28.255303",
     "status": "completed"
    },
    "tags": []
   },
   "outputs": [
    {
     "data": {
      "text/plain": [
       "Mr.          757\n",
       "Miss.        260\n",
       "Mrs.         197\n",
       "Master.       61\n",
       "Rev.           8\n",
       "Dr.            8\n",
       "Col.           4\n",
       "Mlle.          2\n",
       "Major.         2\n",
       "Ms.            2\n",
       "Lady.          1\n",
       "Sir.           1\n",
       "Mme.           1\n",
       "Don.           1\n",
       "Capt.          1\n",
       "Countess.      1\n",
       "Jonkheer.      1\n",
       "Dona.          1\n",
       "Name: Title, dtype: int64"
      ]
     },
     "execution_count": 13,
     "metadata": {},
     "output_type": "execute_result"
    }
   ],
   "source": [
    "# Title 추출\n",
    "all_data['Title'] = all_data['Name'].apply(get_title)\n",
    "all_data['Title'].value_counts()"
   ]
  },
  {
   "cell_type": "code",
   "execution_count": 14,
   "id": "8debe94d",
   "metadata": {
    "execution": {
     "iopub.execute_input": "2024-11-20T01:18:28.340571Z",
     "iopub.status.busy": "2024-11-20T01:18:28.334489Z",
     "iopub.status.idle": "2024-11-20T01:18:28.352360Z",
     "shell.execute_reply": "2024-11-20T01:18:28.351742Z",
     "shell.execute_reply.started": "2024-11-20T01:17:09.387214Z"
    },
    "papermill": {
     "duration": 0.041165,
     "end_time": "2024-11-20T01:18:28.352505",
     "exception": false,
     "start_time": "2024-11-20T01:18:28.311340",
     "status": "completed"
    },
    "tags": []
   },
   "outputs": [
    {
     "data": {
      "text/plain": [
       "Mr.         757\n",
       "Miss.       264\n",
       "Mrs.        198\n",
       "Master.      61\n",
       "Officer.     19\n",
       "Royal.        6\n",
       "Col.          4\n",
       "Name: Title, dtype: int64"
      ]
     },
     "execution_count": 14,
     "metadata": {},
     "output_type": "execute_result"
    }
   ],
   "source": [
    "# Title을 대표 Title로 축소\n",
    "all_data['Title'] = all_data['Title'].replace(['Capt.', 'Dr.', 'Major.', 'Rev.'], 'Officer.')\n",
    "all_data['Title'] = all_data['Title'].replace(['Lady.', 'Countess.', 'Don.', 'Sir.', 'Jonkheer.', 'Dona.'], 'Royal.')\n",
    "all_data['Title'] = all_data['Title'].replace(['Mlle.', 'Ms.'], 'Miss.')\n",
    "all_data['Title'] = all_data['Title'].replace(['Mme.'], 'Mrs.')\n",
    "all_data['Title'].value_counts()"
   ]
  },
  {
   "cell_type": "code",
   "execution_count": 15,
   "id": "e2173ad3",
   "metadata": {
    "execution": {
     "iopub.execute_input": "2024-11-20T01:18:28.405946Z",
     "iopub.status.busy": "2024-11-20T01:18:28.405250Z",
     "iopub.status.idle": "2024-11-20T01:18:28.409076Z",
     "shell.execute_reply": "2024-11-20T01:18:28.409549Z",
     "shell.execute_reply.started": "2024-11-20T01:17:09.409123Z"
    },
    "papermill": {
     "duration": 0.03614,
     "end_time": "2024-11-20T01:18:28.409719",
     "exception": false,
     "start_time": "2024-11-20T01:18:28.373579",
     "status": "completed"
    },
    "tags": []
   },
   "outputs": [
    {
     "data": {
      "text/plain": [
       "M    1014\n",
       "C      94\n",
       "B      65\n",
       "D      46\n",
       "E      41\n",
       "A      22\n",
       "F      21\n",
       "G       5\n",
       "T       1\n",
       "Name: Cabin, dtype: int64"
      ]
     },
     "execution_count": 15,
     "metadata": {},
     "output_type": "execute_result"
    }
   ],
   "source": [
    "# Cabin null값 처리\n",
    "all_data['Cabin'] = all_data['Cabin'].fillna('Missing')\n",
    "all_data['Cabin'] = all_data['Cabin'].str[0]\n",
    "all_data['Cabin'].value_counts()"
   ]
  },
  {
   "cell_type": "code",
   "execution_count": 16,
   "id": "ccceb312",
   "metadata": {
    "execution": {
     "iopub.execute_input": "2024-11-20T01:18:28.477942Z",
     "iopub.status.busy": "2024-11-20T01:18:28.476956Z",
     "iopub.status.idle": "2024-11-20T01:18:28.481865Z",
     "shell.execute_reply": "2024-11-20T01:18:28.481175Z",
     "shell.execute_reply.started": "2024-11-20T01:17:09.429949Z"
    },
    "papermill": {
     "duration": 0.051384,
     "end_time": "2024-11-20T01:18:28.482022",
     "exception": false,
     "start_time": "2024-11-20T01:18:28.430638",
     "status": "completed"
    },
    "tags": []
   },
   "outputs": [
    {
     "data": {
      "text/html": [
       "<div>\n",
       "<style scoped>\n",
       "    .dataframe tbody tr th:only-of-type {\n",
       "        vertical-align: middle;\n",
       "    }\n",
       "\n",
       "    .dataframe tbody tr th {\n",
       "        vertical-align: top;\n",
       "    }\n",
       "\n",
       "    .dataframe thead th {\n",
       "        text-align: right;\n",
       "    }\n",
       "</style>\n",
       "<table border=\"1\" class=\"dataframe\">\n",
       "  <thead>\n",
       "    <tr style=\"text-align: right;\">\n",
       "      <th></th>\n",
       "      <th>PassengerId</th>\n",
       "      <th>Survived</th>\n",
       "      <th>Pclass</th>\n",
       "      <th>Name</th>\n",
       "      <th>Sex</th>\n",
       "      <th>Age</th>\n",
       "      <th>SibSp</th>\n",
       "      <th>Parch</th>\n",
       "      <th>Ticket</th>\n",
       "      <th>Fare</th>\n",
       "      <th>Cabin</th>\n",
       "      <th>Embarked</th>\n",
       "      <th>Title</th>\n",
       "      <th>Family_Size</th>\n",
       "      <th>IsAlone</th>\n",
       "    </tr>\n",
       "  </thead>\n",
       "  <tbody>\n",
       "    <tr>\n",
       "      <th>0</th>\n",
       "      <td>1</td>\n",
       "      <td>0.0</td>\n",
       "      <td>3</td>\n",
       "      <td>Braund, Mr. Owen Harris</td>\n",
       "      <td>male</td>\n",
       "      <td>1.0</td>\n",
       "      <td>1</td>\n",
       "      <td>0</td>\n",
       "      <td>A/5 21171</td>\n",
       "      <td>7.2500</td>\n",
       "      <td>M</td>\n",
       "      <td>S</td>\n",
       "      <td>Mr.</td>\n",
       "      <td>2</td>\n",
       "      <td>0</td>\n",
       "    </tr>\n",
       "    <tr>\n",
       "      <th>1</th>\n",
       "      <td>2</td>\n",
       "      <td>1.0</td>\n",
       "      <td>1</td>\n",
       "      <td>Cumings, Mrs. John Bradley (Florence Briggs Th...</td>\n",
       "      <td>female</td>\n",
       "      <td>3.0</td>\n",
       "      <td>1</td>\n",
       "      <td>0</td>\n",
       "      <td>PC 17599</td>\n",
       "      <td>71.2833</td>\n",
       "      <td>C</td>\n",
       "      <td>C</td>\n",
       "      <td>Mrs.</td>\n",
       "      <td>2</td>\n",
       "      <td>0</td>\n",
       "    </tr>\n",
       "    <tr>\n",
       "      <th>2</th>\n",
       "      <td>3</td>\n",
       "      <td>1.0</td>\n",
       "      <td>3</td>\n",
       "      <td>Heikkinen, Miss. Laina</td>\n",
       "      <td>female</td>\n",
       "      <td>2.0</td>\n",
       "      <td>0</td>\n",
       "      <td>0</td>\n",
       "      <td>STON/O2. 3101282</td>\n",
       "      <td>7.9250</td>\n",
       "      <td>M</td>\n",
       "      <td>S</td>\n",
       "      <td>Miss.</td>\n",
       "      <td>1</td>\n",
       "      <td>1</td>\n",
       "    </tr>\n",
       "    <tr>\n",
       "      <th>3</th>\n",
       "      <td>4</td>\n",
       "      <td>1.0</td>\n",
       "      <td>1</td>\n",
       "      <td>Futrelle, Mrs. Jacques Heath (Lily May Peel)</td>\n",
       "      <td>female</td>\n",
       "      <td>2.0</td>\n",
       "      <td>1</td>\n",
       "      <td>0</td>\n",
       "      <td>113803</td>\n",
       "      <td>53.1000</td>\n",
       "      <td>C</td>\n",
       "      <td>S</td>\n",
       "      <td>Mrs.</td>\n",
       "      <td>2</td>\n",
       "      <td>0</td>\n",
       "    </tr>\n",
       "    <tr>\n",
       "      <th>4</th>\n",
       "      <td>5</td>\n",
       "      <td>0.0</td>\n",
       "      <td>3</td>\n",
       "      <td>Allen, Mr. William Henry</td>\n",
       "      <td>male</td>\n",
       "      <td>2.0</td>\n",
       "      <td>0</td>\n",
       "      <td>0</td>\n",
       "      <td>373450</td>\n",
       "      <td>8.0500</td>\n",
       "      <td>M</td>\n",
       "      <td>S</td>\n",
       "      <td>Mr.</td>\n",
       "      <td>1</td>\n",
       "      <td>1</td>\n",
       "    </tr>\n",
       "  </tbody>\n",
       "</table>\n",
       "</div>"
      ],
      "text/plain": [
       "   PassengerId  Survived  Pclass  \\\n",
       "0            1       0.0       3   \n",
       "1            2       1.0       1   \n",
       "2            3       1.0       3   \n",
       "3            4       1.0       1   \n",
       "4            5       0.0       3   \n",
       "\n",
       "                                                Name     Sex  Age  SibSp  \\\n",
       "0                            Braund, Mr. Owen Harris    male  1.0      1   \n",
       "1  Cumings, Mrs. John Bradley (Florence Briggs Th...  female  3.0      1   \n",
       "2                             Heikkinen, Miss. Laina  female  2.0      0   \n",
       "3       Futrelle, Mrs. Jacques Heath (Lily May Peel)  female  2.0      1   \n",
       "4                           Allen, Mr. William Henry    male  2.0      0   \n",
       "\n",
       "   Parch            Ticket     Fare Cabin Embarked  Title  Family_Size  \\\n",
       "0      0         A/5 21171   7.2500     M        S    Mr.            2   \n",
       "1      0          PC 17599  71.2833     C        C   Mrs.            2   \n",
       "2      0  STON/O2. 3101282   7.9250     M        S  Miss.            1   \n",
       "3      0            113803  53.1000     C        S   Mrs.            2   \n",
       "4      0            373450   8.0500     M        S    Mr.            1   \n",
       "\n",
       "   IsAlone  \n",
       "0        0  \n",
       "1        0  \n",
       "2        1  \n",
       "3        0  \n",
       "4        1  "
      ]
     },
     "execution_count": 16,
     "metadata": {},
     "output_type": "execute_result"
    }
   ],
   "source": [
    "# 가족 수 및 혼자사는지 여부에 대한 feature 추가\n",
    "all_data['Family_Size'] = all_data['SibSp'] + all_data['Parch'] + 1\n",
    "all_data['IsAlone'] = 0\n",
    "all_data.loc[all_data['Family_Size']==1, 'IsAlone'] = 1\n",
    "all_data.head()"
   ]
  },
  {
   "cell_type": "code",
   "execution_count": 17,
   "id": "2d4dbca0",
   "metadata": {
    "execution": {
     "iopub.execute_input": "2024-11-20T01:18:28.529976Z",
     "iopub.status.busy": "2024-11-20T01:18:28.529064Z",
     "iopub.status.idle": "2024-11-20T01:18:28.545949Z",
     "shell.execute_reply": "2024-11-20T01:18:28.545323Z",
     "shell.execute_reply.started": "2024-11-20T01:17:09.459727Z"
    },
    "papermill": {
     "duration": 0.042912,
     "end_time": "2024-11-20T01:18:28.546100",
     "exception": false,
     "start_time": "2024-11-20T01:18:28.503188",
     "status": "completed"
    },
    "tags": []
   },
   "outputs": [
    {
     "data": {
      "text/html": [
       "<div>\n",
       "<style scoped>\n",
       "    .dataframe tbody tr th:only-of-type {\n",
       "        vertical-align: middle;\n",
       "    }\n",
       "\n",
       "    .dataframe tbody tr th {\n",
       "        vertical-align: top;\n",
       "    }\n",
       "\n",
       "    .dataframe thead th {\n",
       "        text-align: right;\n",
       "    }\n",
       "</style>\n",
       "<table border=\"1\" class=\"dataframe\">\n",
       "  <thead>\n",
       "    <tr style=\"text-align: right;\">\n",
       "      <th></th>\n",
       "      <th>PassengerId</th>\n",
       "      <th>Survived</th>\n",
       "      <th>Pclass</th>\n",
       "      <th>Sex</th>\n",
       "      <th>Age</th>\n",
       "      <th>SibSp</th>\n",
       "      <th>Parch</th>\n",
       "      <th>Fare</th>\n",
       "      <th>Cabin</th>\n",
       "      <th>Embarked</th>\n",
       "      <th>Title</th>\n",
       "      <th>Family_Size</th>\n",
       "      <th>IsAlone</th>\n",
       "    </tr>\n",
       "  </thead>\n",
       "  <tbody>\n",
       "    <tr>\n",
       "      <th>0</th>\n",
       "      <td>1</td>\n",
       "      <td>0.0</td>\n",
       "      <td>3</td>\n",
       "      <td>male</td>\n",
       "      <td>1.0</td>\n",
       "      <td>1</td>\n",
       "      <td>0</td>\n",
       "      <td>7.2500</td>\n",
       "      <td>M</td>\n",
       "      <td>S</td>\n",
       "      <td>Mr.</td>\n",
       "      <td>2</td>\n",
       "      <td>0</td>\n",
       "    </tr>\n",
       "    <tr>\n",
       "      <th>1</th>\n",
       "      <td>2</td>\n",
       "      <td>1.0</td>\n",
       "      <td>1</td>\n",
       "      <td>female</td>\n",
       "      <td>3.0</td>\n",
       "      <td>1</td>\n",
       "      <td>0</td>\n",
       "      <td>71.2833</td>\n",
       "      <td>C</td>\n",
       "      <td>C</td>\n",
       "      <td>Mrs.</td>\n",
       "      <td>2</td>\n",
       "      <td>0</td>\n",
       "    </tr>\n",
       "    <tr>\n",
       "      <th>2</th>\n",
       "      <td>3</td>\n",
       "      <td>1.0</td>\n",
       "      <td>3</td>\n",
       "      <td>female</td>\n",
       "      <td>2.0</td>\n",
       "      <td>0</td>\n",
       "      <td>0</td>\n",
       "      <td>7.9250</td>\n",
       "      <td>M</td>\n",
       "      <td>S</td>\n",
       "      <td>Miss.</td>\n",
       "      <td>1</td>\n",
       "      <td>1</td>\n",
       "    </tr>\n",
       "    <tr>\n",
       "      <th>3</th>\n",
       "      <td>4</td>\n",
       "      <td>1.0</td>\n",
       "      <td>1</td>\n",
       "      <td>female</td>\n",
       "      <td>2.0</td>\n",
       "      <td>1</td>\n",
       "      <td>0</td>\n",
       "      <td>53.1000</td>\n",
       "      <td>C</td>\n",
       "      <td>S</td>\n",
       "      <td>Mrs.</td>\n",
       "      <td>2</td>\n",
       "      <td>0</td>\n",
       "    </tr>\n",
       "    <tr>\n",
       "      <th>4</th>\n",
       "      <td>5</td>\n",
       "      <td>0.0</td>\n",
       "      <td>3</td>\n",
       "      <td>male</td>\n",
       "      <td>2.0</td>\n",
       "      <td>0</td>\n",
       "      <td>0</td>\n",
       "      <td>8.0500</td>\n",
       "      <td>M</td>\n",
       "      <td>S</td>\n",
       "      <td>Mr.</td>\n",
       "      <td>1</td>\n",
       "      <td>1</td>\n",
       "    </tr>\n",
       "  </tbody>\n",
       "</table>\n",
       "</div>"
      ],
      "text/plain": [
       "   PassengerId  Survived  Pclass     Sex  Age  SibSp  Parch     Fare Cabin  \\\n",
       "0            1       0.0       3    male  1.0      1      0   7.2500     M   \n",
       "1            2       1.0       1  female  3.0      1      0  71.2833     C   \n",
       "2            3       1.0       3  female  2.0      0      0   7.9250     M   \n",
       "3            4       1.0       1  female  2.0      1      0  53.1000     C   \n",
       "4            5       0.0       3    male  2.0      0      0   8.0500     M   \n",
       "\n",
       "  Embarked  Title  Family_Size  IsAlone  \n",
       "0        S    Mr.            2        0  \n",
       "1        C   Mrs.            2        0  \n",
       "2        S  Miss.            1        1  \n",
       "3        S   Mrs.            2        0  \n",
       "4        S    Mr.            1        1  "
      ]
     },
     "execution_count": 17,
     "metadata": {},
     "output_type": "execute_result"
    }
   ],
   "source": [
    "# 모델링에 필요 없는 feature 삭제\n",
    "all_data.drop(['Name', 'Ticket'], axis=1, inplace=True)\n",
    "all_data.head()"
   ]
  },
  {
   "cell_type": "code",
   "execution_count": 18,
   "id": "f063b5f7",
   "metadata": {
    "execution": {
     "iopub.execute_input": "2024-11-20T01:18:28.603246Z",
     "iopub.status.busy": "2024-11-20T01:18:28.602515Z",
     "iopub.status.idle": "2024-11-20T01:18:28.626280Z",
     "shell.execute_reply": "2024-11-20T01:18:28.625469Z",
     "shell.execute_reply.started": "2024-11-20T01:17:09.485257Z"
    },
    "papermill": {
     "duration": 0.057956,
     "end_time": "2024-11-20T01:18:28.626439",
     "exception": false,
     "start_time": "2024-11-20T01:18:28.568483",
     "status": "completed"
    },
    "tags": []
   },
   "outputs": [
    {
     "data": {
      "text/html": [
       "<div>\n",
       "<style scoped>\n",
       "    .dataframe tbody tr th:only-of-type {\n",
       "        vertical-align: middle;\n",
       "    }\n",
       "\n",
       "    .dataframe tbody tr th {\n",
       "        vertical-align: top;\n",
       "    }\n",
       "\n",
       "    .dataframe thead th {\n",
       "        text-align: right;\n",
       "    }\n",
       "</style>\n",
       "<table border=\"1\" class=\"dataframe\">\n",
       "  <thead>\n",
       "    <tr style=\"text-align: right;\">\n",
       "      <th></th>\n",
       "      <th>PassengerId</th>\n",
       "      <th>Survived</th>\n",
       "      <th>Pclass</th>\n",
       "      <th>Age</th>\n",
       "      <th>SibSp</th>\n",
       "      <th>Parch</th>\n",
       "      <th>Fare</th>\n",
       "      <th>Family_Size</th>\n",
       "      <th>IsAlone</th>\n",
       "      <th>Sex_male</th>\n",
       "      <th>...</th>\n",
       "      <th>Cabin_M</th>\n",
       "      <th>Cabin_T</th>\n",
       "      <th>Embarked_Q</th>\n",
       "      <th>Embarked_S</th>\n",
       "      <th>Title_Master.</th>\n",
       "      <th>Title_Miss.</th>\n",
       "      <th>Title_Mr.</th>\n",
       "      <th>Title_Mrs.</th>\n",
       "      <th>Title_Officer.</th>\n",
       "      <th>Title_Royal.</th>\n",
       "    </tr>\n",
       "  </thead>\n",
       "  <tbody>\n",
       "    <tr>\n",
       "      <th>0</th>\n",
       "      <td>1</td>\n",
       "      <td>0.0</td>\n",
       "      <td>3</td>\n",
       "      <td>1.0</td>\n",
       "      <td>1</td>\n",
       "      <td>0</td>\n",
       "      <td>7.2500</td>\n",
       "      <td>2</td>\n",
       "      <td>0</td>\n",
       "      <td>1</td>\n",
       "      <td>...</td>\n",
       "      <td>1</td>\n",
       "      <td>0</td>\n",
       "      <td>0</td>\n",
       "      <td>1</td>\n",
       "      <td>0</td>\n",
       "      <td>0</td>\n",
       "      <td>1</td>\n",
       "      <td>0</td>\n",
       "      <td>0</td>\n",
       "      <td>0</td>\n",
       "    </tr>\n",
       "    <tr>\n",
       "      <th>1</th>\n",
       "      <td>2</td>\n",
       "      <td>1.0</td>\n",
       "      <td>1</td>\n",
       "      <td>3.0</td>\n",
       "      <td>1</td>\n",
       "      <td>0</td>\n",
       "      <td>71.2833</td>\n",
       "      <td>2</td>\n",
       "      <td>0</td>\n",
       "      <td>0</td>\n",
       "      <td>...</td>\n",
       "      <td>0</td>\n",
       "      <td>0</td>\n",
       "      <td>0</td>\n",
       "      <td>0</td>\n",
       "      <td>0</td>\n",
       "      <td>0</td>\n",
       "      <td>0</td>\n",
       "      <td>1</td>\n",
       "      <td>0</td>\n",
       "      <td>0</td>\n",
       "    </tr>\n",
       "    <tr>\n",
       "      <th>2</th>\n",
       "      <td>3</td>\n",
       "      <td>1.0</td>\n",
       "      <td>3</td>\n",
       "      <td>2.0</td>\n",
       "      <td>0</td>\n",
       "      <td>0</td>\n",
       "      <td>7.9250</td>\n",
       "      <td>1</td>\n",
       "      <td>1</td>\n",
       "      <td>0</td>\n",
       "      <td>...</td>\n",
       "      <td>1</td>\n",
       "      <td>0</td>\n",
       "      <td>0</td>\n",
       "      <td>1</td>\n",
       "      <td>0</td>\n",
       "      <td>1</td>\n",
       "      <td>0</td>\n",
       "      <td>0</td>\n",
       "      <td>0</td>\n",
       "      <td>0</td>\n",
       "    </tr>\n",
       "    <tr>\n",
       "      <th>3</th>\n",
       "      <td>4</td>\n",
       "      <td>1.0</td>\n",
       "      <td>1</td>\n",
       "      <td>2.0</td>\n",
       "      <td>1</td>\n",
       "      <td>0</td>\n",
       "      <td>53.1000</td>\n",
       "      <td>2</td>\n",
       "      <td>0</td>\n",
       "      <td>0</td>\n",
       "      <td>...</td>\n",
       "      <td>0</td>\n",
       "      <td>0</td>\n",
       "      <td>0</td>\n",
       "      <td>1</td>\n",
       "      <td>0</td>\n",
       "      <td>0</td>\n",
       "      <td>0</td>\n",
       "      <td>1</td>\n",
       "      <td>0</td>\n",
       "      <td>0</td>\n",
       "    </tr>\n",
       "    <tr>\n",
       "      <th>4</th>\n",
       "      <td>5</td>\n",
       "      <td>0.0</td>\n",
       "      <td>3</td>\n",
       "      <td>2.0</td>\n",
       "      <td>0</td>\n",
       "      <td>0</td>\n",
       "      <td>8.0500</td>\n",
       "      <td>1</td>\n",
       "      <td>1</td>\n",
       "      <td>1</td>\n",
       "      <td>...</td>\n",
       "      <td>1</td>\n",
       "      <td>0</td>\n",
       "      <td>0</td>\n",
       "      <td>1</td>\n",
       "      <td>0</td>\n",
       "      <td>0</td>\n",
       "      <td>1</td>\n",
       "      <td>0</td>\n",
       "      <td>0</td>\n",
       "      <td>0</td>\n",
       "    </tr>\n",
       "  </tbody>\n",
       "</table>\n",
       "<p>5 rows × 26 columns</p>\n",
       "</div>"
      ],
      "text/plain": [
       "   PassengerId  Survived  Pclass  Age  SibSp  Parch     Fare  Family_Size  \\\n",
       "0            1       0.0       3  1.0      1      0   7.2500            2   \n",
       "1            2       1.0       1  3.0      1      0  71.2833            2   \n",
       "2            3       1.0       3  2.0      0      0   7.9250            1   \n",
       "3            4       1.0       1  2.0      1      0  53.1000            2   \n",
       "4            5       0.0       3  2.0      0      0   8.0500            1   \n",
       "\n",
       "   IsAlone  Sex_male  ...  Cabin_M  Cabin_T  Embarked_Q  Embarked_S  \\\n",
       "0        0         1  ...        1        0           0           1   \n",
       "1        0         0  ...        0        0           0           0   \n",
       "2        1         0  ...        1        0           0           1   \n",
       "3        0         0  ...        0        0           0           1   \n",
       "4        1         1  ...        1        0           0           1   \n",
       "\n",
       "   Title_Master.  Title_Miss.  Title_Mr.  Title_Mrs.  Title_Officer.  \\\n",
       "0              0            0          1           0               0   \n",
       "1              0            0          0           1               0   \n",
       "2              0            1          0           0               0   \n",
       "3              0            0          0           1               0   \n",
       "4              0            0          1           0               0   \n",
       "\n",
       "   Title_Royal.  \n",
       "0             0  \n",
       "1             0  \n",
       "2             0  \n",
       "3             0  \n",
       "4             0  \n",
       "\n",
       "[5 rows x 26 columns]"
      ]
     },
     "execution_count": 18,
     "metadata": {},
     "output_type": "execute_result"
    }
   ],
   "source": [
    "# 범주형 feature 가변수화하기\n",
    "all_dummies = pd.get_dummies(all_data, drop_first=True)\n",
    "all_dummies.head()"
   ]
  },
  {
   "cell_type": "code",
   "execution_count": 19,
   "id": "dd96b768",
   "metadata": {
    "execution": {
     "iopub.execute_input": "2024-11-20T01:18:28.676792Z",
     "iopub.status.busy": "2024-11-20T01:18:28.676066Z",
     "iopub.status.idle": "2024-11-20T01:18:28.691354Z",
     "shell.execute_reply": "2024-11-20T01:18:28.690587Z",
     "shell.execute_reply.started": "2024-11-20T01:17:09.515081Z"
    },
    "papermill": {
     "duration": 0.042873,
     "end_time": "2024-11-20T01:18:28.691504",
     "exception": false,
     "start_time": "2024-11-20T01:18:28.648631",
     "status": "completed"
    },
    "tags": []
   },
   "outputs": [
    {
     "name": "stdout",
     "output_type": "stream",
     "text": [
      "<class 'pandas.core.frame.DataFrame'>\n",
      "Int64Index: 891 entries, 0 to 890\n",
      "Data columns (total 26 columns):\n",
      " #   Column          Non-Null Count  Dtype  \n",
      "---  ------          --------------  -----  \n",
      " 0   PassengerId     891 non-null    int64  \n",
      " 1   Survived        891 non-null    float64\n",
      " 2   Pclass          891 non-null    int64  \n",
      " 3   Age             891 non-null    float64\n",
      " 4   SibSp           891 non-null    int64  \n",
      " 5   Parch           891 non-null    int64  \n",
      " 6   Fare            891 non-null    float64\n",
      " 7   Family_Size     891 non-null    int64  \n",
      " 8   IsAlone         891 non-null    int64  \n",
      " 9   Sex_male        891 non-null    uint8  \n",
      " 10  Cabin_B         891 non-null    uint8  \n",
      " 11  Cabin_C         891 non-null    uint8  \n",
      " 12  Cabin_D         891 non-null    uint8  \n",
      " 13  Cabin_E         891 non-null    uint8  \n",
      " 14  Cabin_F         891 non-null    uint8  \n",
      " 15  Cabin_G         891 non-null    uint8  \n",
      " 16  Cabin_M         891 non-null    uint8  \n",
      " 17  Cabin_T         891 non-null    uint8  \n",
      " 18  Embarked_Q      891 non-null    uint8  \n",
      " 19  Embarked_S      891 non-null    uint8  \n",
      " 20  Title_Master.   891 non-null    uint8  \n",
      " 21  Title_Miss.     891 non-null    uint8  \n",
      " 22  Title_Mr.       891 non-null    uint8  \n",
      " 23  Title_Mrs.      891 non-null    uint8  \n",
      " 24  Title_Officer.  891 non-null    uint8  \n",
      " 25  Title_Royal.    891 non-null    uint8  \n",
      "dtypes: float64(3), int64(6), uint8(17)\n",
      "memory usage: 84.4 KB\n"
     ]
    }
   ],
   "source": [
    "train = all_dummies[all_dummies['Survived'].notna()]\n",
    "train.info()"
   ]
  },
  {
   "cell_type": "code",
   "execution_count": 20,
   "id": "5275862c",
   "metadata": {
    "execution": {
     "iopub.execute_input": "2024-11-20T01:18:28.753141Z",
     "iopub.status.busy": "2024-11-20T01:18:28.752231Z",
     "iopub.status.idle": "2024-11-20T01:18:28.756426Z",
     "shell.execute_reply": "2024-11-20T01:18:28.755869Z",
     "shell.execute_reply.started": "2024-11-20T01:17:09.533061Z"
    },
    "papermill": {
     "duration": 0.041427,
     "end_time": "2024-11-20T01:18:28.756588",
     "exception": false,
     "start_time": "2024-11-20T01:18:28.715161",
     "status": "completed"
    },
    "tags": []
   },
   "outputs": [
    {
     "name": "stdout",
     "output_type": "stream",
     "text": [
      "<class 'pandas.core.frame.DataFrame'>\n",
      "Int64Index: 418 entries, 0 to 417\n",
      "Data columns (total 26 columns):\n",
      " #   Column          Non-Null Count  Dtype  \n",
      "---  ------          --------------  -----  \n",
      " 0   PassengerId     418 non-null    int64  \n",
      " 1   Survived        0 non-null      float64\n",
      " 2   Pclass          418 non-null    int64  \n",
      " 3   Age             418 non-null    float64\n",
      " 4   SibSp           418 non-null    int64  \n",
      " 5   Parch           418 non-null    int64  \n",
      " 6   Fare            418 non-null    float64\n",
      " 7   Family_Size     418 non-null    int64  \n",
      " 8   IsAlone         418 non-null    int64  \n",
      " 9   Sex_male        418 non-null    uint8  \n",
      " 10  Cabin_B         418 non-null    uint8  \n",
      " 11  Cabin_C         418 non-null    uint8  \n",
      " 12  Cabin_D         418 non-null    uint8  \n",
      " 13  Cabin_E         418 non-null    uint8  \n",
      " 14  Cabin_F         418 non-null    uint8  \n",
      " 15  Cabin_G         418 non-null    uint8  \n",
      " 16  Cabin_M         418 non-null    uint8  \n",
      " 17  Cabin_T         418 non-null    uint8  \n",
      " 18  Embarked_Q      418 non-null    uint8  \n",
      " 19  Embarked_S      418 non-null    uint8  \n",
      " 20  Title_Master.   418 non-null    uint8  \n",
      " 21  Title_Miss.     418 non-null    uint8  \n",
      " 22  Title_Mr.       418 non-null    uint8  \n",
      " 23  Title_Mrs.      418 non-null    uint8  \n",
      " 24  Title_Officer.  418 non-null    uint8  \n",
      " 25  Title_Royal.    418 non-null    uint8  \n",
      "dtypes: float64(3), int64(6), uint8(17)\n",
      "memory usage: 39.6 KB\n"
     ]
    }
   ],
   "source": [
    "test = all_dummies[all_dummies['Survived'].isna()]\n",
    "test.info()"
   ]
  },
  {
   "cell_type": "markdown",
   "id": "1a2ce78f",
   "metadata": {
    "papermill": {
     "duration": 0.022377,
     "end_time": "2024-11-20T01:18:28.801888",
     "exception": false,
     "start_time": "2024-11-20T01:18:28.779511",
     "status": "completed"
    },
    "tags": []
   },
   "source": [
    "# 모델링 및 훈련/예측"
   ]
  },
  {
   "cell_type": "code",
   "execution_count": 21,
   "id": "390429e7",
   "metadata": {
    "execution": {
     "iopub.execute_input": "2024-11-20T01:18:28.854325Z",
     "iopub.status.busy": "2024-11-20T01:18:28.853591Z",
     "iopub.status.idle": "2024-11-20T01:18:28.859414Z",
     "shell.execute_reply": "2024-11-20T01:18:28.858792Z",
     "shell.execute_reply.started": "2024-11-20T01:17:09.549474Z"
    },
    "papermill": {
     "duration": 0.034655,
     "end_time": "2024-11-20T01:18:28.859576",
     "exception": false,
     "start_time": "2024-11-20T01:18:28.824921",
     "status": "completed"
    },
    "tags": []
   },
   "outputs": [],
   "source": [
    "X = train.drop(['PassengerId','Survived'], axis=1)\n",
    "y = train['Survived']\n",
    "\n",
    "test = test.drop(['PassengerId', 'Survived'], axis=1)"
   ]
  },
  {
   "cell_type": "code",
   "execution_count": 22,
   "id": "edcc2c49",
   "metadata": {
    "execution": {
     "iopub.execute_input": "2024-11-20T01:18:28.913161Z",
     "iopub.status.busy": "2024-11-20T01:18:28.912263Z",
     "iopub.status.idle": "2024-11-20T01:18:29.290575Z",
     "shell.execute_reply": "2024-11-20T01:18:29.290019Z",
     "shell.execute_reply.started": "2024-11-20T01:17:09.561443Z"
    },
    "papermill": {
     "duration": 0.408578,
     "end_time": "2024-11-20T01:18:29.290742",
     "exception": false,
     "start_time": "2024-11-20T01:18:28.882164",
     "status": "completed"
    },
    "tags": []
   },
   "outputs": [
    {
     "data": {
      "text/plain": [
       "RandomForestClassifier(min_samples_split=10, n_estimators=200, random_state=42)"
      ]
     },
     "execution_count": 22,
     "metadata": {},
     "output_type": "execute_result"
    }
   ],
   "source": [
    "clf = RandomForestClassifier(n_estimators=200, min_samples_split=10, random_state=42)\n",
    "clf.fit(X, y)"
   ]
  },
  {
   "cell_type": "code",
   "execution_count": 23,
   "id": "a464da39",
   "metadata": {
    "execution": {
     "iopub.execute_input": "2024-11-20T01:18:29.346020Z",
     "iopub.status.busy": "2024-11-20T01:18:29.345224Z",
     "iopub.status.idle": "2024-11-20T01:18:29.380184Z",
     "shell.execute_reply": "2024-11-20T01:18:29.379472Z",
     "shell.execute_reply.started": "2024-11-20T01:17:09.939886Z"
    },
    "papermill": {
     "duration": 0.064801,
     "end_time": "2024-11-20T01:18:29.380357",
     "exception": false,
     "start_time": "2024-11-20T01:18:29.315556",
     "status": "completed"
    },
    "tags": []
   },
   "outputs": [],
   "source": [
    "pred = clf.predict(test).astype(int)\n",
    "submission['Survived'] = pred"
   ]
  },
  {
   "cell_type": "code",
   "execution_count": 24,
   "id": "567cd272",
   "metadata": {
    "execution": {
     "iopub.execute_input": "2024-11-20T01:18:29.431781Z",
     "iopub.status.busy": "2024-11-20T01:18:29.430697Z",
     "iopub.status.idle": "2024-11-20T01:18:29.438810Z",
     "shell.execute_reply": "2024-11-20T01:18:29.438238Z",
     "shell.execute_reply.started": "2024-11-20T01:17:09.981359Z"
    },
    "papermill": {
     "duration": 0.035984,
     "end_time": "2024-11-20T01:18:29.438980",
     "exception": false,
     "start_time": "2024-11-20T01:18:29.402996",
     "status": "completed"
    },
    "tags": []
   },
   "outputs": [],
   "source": [
    "submission.to_csv(\"submission.csv\", index=False)"
   ]
  }
 ],
 "metadata": {
  "kaggle": {
   "accelerator": "none",
   "dataSources": [
    {
     "databundleVersionId": 26502,
     "sourceId": 3136,
     "sourceType": "competition"
    }
   ],
   "dockerImageVersionId": 30123,
   "isGpuEnabled": false,
   "isInternetEnabled": true,
   "language": "python",
   "sourceType": "notebook"
  },
  "kernelspec": {
   "display_name": "Python 3",
   "language": "python",
   "name": "python3"
  },
  "language_info": {
   "codemirror_mode": {
    "name": "ipython",
    "version": 3
   },
   "file_extension": ".py",
   "mimetype": "text/x-python",
   "name": "python",
   "nbconvert_exporter": "python",
   "pygments_lexer": "ipython3",
   "version": "3.7.10"
  },
  "papermill": {
   "default_parameters": {},
   "duration": 13.899478,
   "end_time": "2024-11-20T01:18:31.042994",
   "environment_variables": {},
   "exception": null,
   "input_path": "__notebook__.ipynb",
   "output_path": "__notebook__.ipynb",
   "parameters": {},
   "start_time": "2024-11-20T01:18:17.143516",
   "version": "2.3.3"
  }
 },
 "nbformat": 4,
 "nbformat_minor": 5
}
